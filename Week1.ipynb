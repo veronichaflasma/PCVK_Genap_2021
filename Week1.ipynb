{
  "nbformat": 4,
  "nbformat_minor": 0,
  "metadata": {
    "colab": {
      "name": "Week1.ipynb",
      "provenance": [],
      "authorship_tag": "ABX9TyOKnqhCip3Tdc4BYY4AQn4T",
      "include_colab_link": true
    },
    "kernelspec": {
      "name": "python3",
      "display_name": "Python 3"
    }
  },
  "cells": [
    {
      "cell_type": "markdown",
      "metadata": {
        "id": "view-in-github",
        "colab_type": "text"
      },
      "source": [
        "<a href=\"https://colab.research.google.com/github/veronichaflasma/PCVK_Genap_2021/blob/main/Week1.ipynb\" target=\"_parent\"><img src=\"https://colab.research.google.com/assets/colab-badge.svg\" alt=\"Open In Colab\"/></a>"
      ]
    },
    {
      "cell_type": "code",
      "metadata": {
        "id": "qi-kwX7Tx1lZ"
      },
      "source": [
        "import numpy as np\r\n",
        "import pandas as pd\r\n",
        "import cv2 as cv\r\n",
        "from google.colab.patches import cv2_imshow #for image display\r\n",
        "from skimage import io\r\n",
        "from skimage import transform\r\n",
        "from PIL import Image\r\n",
        "import matplotlib.pylab as plt\r\n",
        "\r\n",
        "#membuat list untuk menyimpan url dari beberapa image\r\n",
        "urls = [\"https://iiif.lib.ncsu.edu/iiif/0052574/full/800,/0/default.jpg\",\r\n",
        "        \"https://iiif.lib.ncsu.edu/iiif/0016007/full/800,/0/default.jpg\",\r\n",
        "        \"https://placekitten.com/800/571\"]\r\n",
        "\r\n",
        "#baca dan tmpilkan image\r\n",
        "# loop pada tiap url image, beberapa image dapat disimpan pada list\r\n",
        "for url in urls:\r\n",
        "  image = io.imread(url)                            #read image\r\n",
        "  image = cv.resize(image, (0,0), fx=0.5, fy=0.5)   #resize image to half size\r\n",
        "  image_2 = cv.cvtColor(image, cv.COLOR_BGR2RGB)    #convert to RGB\r\n",
        "  final_frame = cv.hconcat((image, image_2))        #concatenate image\r\n",
        "  cv2_imshow(finale_frame)                          #show_image\r\n",
        "  print('\\n')\r\n"
      ],
      "execution_count": null,
      "outputs": []
    }
  ]
}